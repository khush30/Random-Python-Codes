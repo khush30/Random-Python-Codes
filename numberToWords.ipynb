{
 "cells": [
  {
   "cell_type": "code",
   "execution_count": 49,
   "metadata": {
    "id": "p9jxSW-L90gD"
   },
   "outputs": [],
   "source": [
    "d = {0:\"zero\" , 1:\"one\" , 2:\"two\" , 3:\"three\" , 4:\"four\" , 5:\"five\" , 6:\"six\" , 7:\"seven\" , 8:\"eight\" , 9:\"nine\" , 10:\"ten\" , 11:\"eleven\" , 12:\"twelve\" , 13:\"thirteen\" , 14:\"fourteen\" , 15:\"fifteen\" , 16:\"sixteen\" , 17:\"seventeen\" , 18:\"eighteen\" , 19:\"nineteen\" , 20:\"twenty\" , 30:\"thirty\" , 40:\"fourty\" , 50:\"fifty\" , 60:\"sixty\" , 70:\"seventy\" , 80:\"eighty\" , 90:\"ninety\"}\n",
    "\n",
    "def findNumber(num):\n",
    "    if num < 20:\n",
    "      return d[num]\n",
    "    elif num < 100:\n",
    "      if num % 10 == 0:\n",
    "        return d[num]\n",
    "      else:\n",
    "        final = d[(num // 10) * 10] + \" \"\n",
    "        num = num % 10\n",
    "        final = final + d[num]\n",
    "        return final\n",
    "\n",
    "def toWords(num):\n",
    "    tens = \"\"\n",
    "    hundreds = \"\"\n",
    "    thousands = \"\"\n",
    "    lakhs = \"\"\n",
    "    crores = \"\"\n",
    "\n",
    "    div = 10000000\n",
    "    if num == 0:\n",
    "        tens = d[num]\n",
    "    else:\n",
    "        x = num // div\n",
    "        num = num % div\n",
    "        if x > 0:\n",
    "            crores = d[x] + \" crore \"\n",
    "        div = div // 100\n",
    "        x = num // div\n",
    "        num = num % div\n",
    "        if x > 0:\n",
    "            lakhs = findNumber(x) + \" lakh \"\n",
    "        div = div // 100\n",
    "        x = num // div\n",
    "        num = num % div\n",
    "        if x > 0:\n",
    "            thousands = findNumber(x) + \" thousand \"\n",
    "        div = div // 10\n",
    "        x = num // div\n",
    "        num = num % div\n",
    "        if x > 0:\n",
    "            hundreds = findNumber(x) + \" hundred \"\n",
    "        div = div // 100\n",
    "        x = num // div\n",
    "        if x > 0:\n",
    "            tens = findNumber(x)\n",
    "\n",
    "    return (crores + lakhs + thousands + hundreds + tens)"
   ]
  },
  {
   "cell_type": "code",
   "execution_count": 50,
   "metadata": {
    "id": "VBELmQtQ-3X_"
   },
   "outputs": [
    {
     "name": "stdout",
     "output_type": "stream",
     "text": [
      "563365\n",
      "five lakh sixty three thousand three hundred sixty five\n"
     ]
    }
   ],
   "source": [
    "while True:\n",
    "  num = int(input())\n",
    "  if(num > 99999999):\n",
    "    print(\"Enter upto 8 digit number\")\n",
    "  else:\n",
    "    break\n",
    "\n",
    "print(toWords(num))"
   ]
  },
  {
   "cell_type": "code",
   "execution_count": null,
   "metadata": {},
   "outputs": [],
   "source": []
  }
 ],
 "metadata": {
  "colab": {
   "name": "Untitled1.ipynb",
   "provenance": []
  },
  "kernelspec": {
   "display_name": "Python 3",
   "language": "python",
   "name": "python3"
  },
  "language_info": {
   "codemirror_mode": {
    "name": "ipython",
    "version": 3
   },
   "file_extension": ".py",
   "mimetype": "text/x-python",
   "name": "python",
   "nbconvert_exporter": "python",
   "pygments_lexer": "ipython3",
   "version": "3.8.3"
  }
 },
 "nbformat": 4,
 "nbformat_minor": 1
}
