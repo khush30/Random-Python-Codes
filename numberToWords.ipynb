{
 "cells": [
  {
   "cell_type": "code",
   "execution_count": 25,
   "metadata": {
    "id": "p9jxSW-L90gD"
   },
   "outputs": [],
   "source": [
    "from gtts import gTTS\n",
    "import IPython\n",
    "import time\n",
    "language = 'en'\n",
    "\n",
    "d = {0:\"zero\" , 1:\"one\" , 2:\"two\" , 3:\"three\" , 4:\"four\" , 5:\"five\" , 6:\"six\" , 7:\"seven\" , 8:\"eight\" , 9:\"nine\" , 10:\"ten\" , 11:\"eleven\" , 12:\"twelve\" , 13:\"thirteen\" , 14:\"fourteen\" , 15:\"fifteen\" , 16:\"sixteen\" , 17:\"seventeen\" , 18:\"eighteen\" , 19:\"nineteen\" , 20:\"twenty\" , 30:\"thirty\" , 40:\"fourty\" , 50:\"fifty\" , 60:\"sixty\" , 70:\"seventy\" , 80:\"eighty\" , 90:\"ninety\"}\n",
    "\n",
    "def findNumber(num):\n",
    "    if num < 20:\n",
    "      return d[num]\n",
    "    elif num < 100:\n",
    "      if num % 10 == 0:\n",
    "        return d[num]\n",
    "      else:\n",
    "        final = d[(num // 10) * 10] + \" \"\n",
    "        num = num % 10\n",
    "        final = final + d[num]\n",
    "        return final\n",
    "\n",
    "def toWords(num):\n",
    "    tens = \"\"\n",
    "    hundreds = \"\"\n",
    "    thousands = \"\"\n",
    "    lakhs = \"\"\n",
    "    crores = \"\"\n",
    "\n",
    "    div = 10000000\n",
    "    if num == 0:\n",
    "        tens = d[num]\n",
    "    else:\n",
    "        x = num // div\n",
    "        num = num % div\n",
    "        if x > 0:\n",
    "            crores = d[x] + \" crore \"\n",
    "        div = div // 100\n",
    "        x = num // div\n",
    "        num = num % div\n",
    "        if x > 0:\n",
    "            lakhs = findNumber(x) + \" lakh \"\n",
    "        div = div // 100\n",
    "        x = num // div\n",
    "        num = num % div\n",
    "        if x > 0:\n",
    "            thousands = findNumber(x) + \" thousand \"\n",
    "        div = div // 10\n",
    "        x = num // div\n",
    "        num = num % div\n",
    "        if x > 0:\n",
    "            hundreds = findNumber(x) + \" hundred \"\n",
    "        div = div // 100\n",
    "        x = num // div\n",
    "        if x > 0:\n",
    "            tens = findNumber(x)\n",
    "\n",
    "    return (crores + lakhs + thousands + hundreds + tens)"
   ]
  },
  {
   "cell_type": "code",
   "execution_count": 26,
   "metadata": {
    "id": "VBELmQtQ-3X_"
   },
   "outputs": [
    {
     "name": "stdout",
     "output_type": "stream",
     "text": [
      "3760\n",
      "three thousand seven hundred sixty\n"
     ]
    },
    {
     "data": {
      "text/html": [
       "\n",
       "                <audio  controls=\"controls\" >\n",
       "                    <source src=\"data:audio/mpeg;base64,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\" type=\"audio/mpeg\" />\n",
       "                    Your browser does not support the audio element.\n",
       "                </audio>\n",
       "              "
      ],
      "text/plain": [
       "<IPython.lib.display.Audio object>"
      ]
     },
     "execution_count": 26,
     "metadata": {},
     "output_type": "execute_result"
    }
   ],
   "source": [
    "while True:\n",
    "  num = int(input())\n",
    "  if(num > 99999999):\n",
    "    print(\"Enter upto 8 digit number\")\n",
    "  else:\n",
    "    break\n",
    "\n",
    "print(toWords(num))\n",
    "mytext = toWords(num) + \"Rupees\"\n",
    "myobj = gTTS(text=mytext, lang=language, slow=False) \n",
    "myobj.save(\"lastNumber.mp3\")\n",
    "time.sleep(10)\n",
    "IPython.display.Audio(\"lastNumber.mp3\")\n"
   ]
  },
  {
   "cell_type": "code",
   "execution_count": null,
   "metadata": {},
   "outputs": [],
   "source": []
  }
 ],
 "metadata": {
  "colab": {
   "name": "Untitled1.ipynb",
   "provenance": []
  },
  "kernelspec": {
   "display_name": "Python 3",
   "language": "python",
   "name": "python3"
  },
  "language_info": {
   "codemirror_mode": {
    "name": "ipython",
    "version": 3
   },
   "file_extension": ".py",
   "mimetype": "text/x-python",
   "name": "python",
   "nbconvert_exporter": "python",
   "pygments_lexer": "ipython3",
   "version": "3.8.3"
  }
 },
 "nbformat": 4,
 "nbformat_minor": 1
}
